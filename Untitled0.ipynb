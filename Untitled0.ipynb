{
  "cells": [
    {
      "cell_type": "markdown",
      "metadata": {
        "id": "view-in-github",
        "colab_type": "text"
      },
      "source": [
        "<a href=\"https://colab.research.google.com/github/GetSya/python/blob/main/Untitled0.ipynb\" target=\"_parent\"><img src=\"https://colab.research.google.com/assets/colab-badge.svg\" alt=\"Open In Colab\"/></a>"
      ]
    },
    {
      "cell_type": "code",
      "execution_count": 5,
      "metadata": {
        "colab": {
          "base_uri": "https://localhost:8080/"
        },
        "id": "R1GkJRd2CUtM",
        "outputId": "133d6692-3a6b-4458-9a7d-51547f5119b5"
      },
      "outputs": [
        {
          "output_type": "stream",
          "name": "stdout",
          "text": [
            "25\n",
            "-1\n",
            "156\n",
            "0.9230769230769231\n",
            "12\n",
            "True\n",
            "False\n",
            "0\n",
            "106993205379072\n",
            "0\n",
            "14\n",
            "10\n",
            "24\n",
            "6.0\n",
            "Angka Tersebut Lebih Dari 10\n"
          ]
        }
      ],
      "source": [
        "p = 12\n",
        "l = 13\n",
        "hasil = p + l\n",
        "print(hasil)\n",
        "\n",
        "p = 12\n",
        "l = 13\n",
        "hasil = p - l\n",
        "print(hasil)\n",
        "\n",
        "p = 12\n",
        "l = 13\n",
        "hasil = p * l\n",
        "print(hasil)\n",
        "\n",
        "p = 12\n",
        "l = 13\n",
        "hasil = p / l\n",
        "print(hasil)\n",
        "\n",
        "p = 12\n",
        "l = 13\n",
        "hasil = p % l\n",
        "print(hasil)\n",
        "\n",
        "p = 12\n",
        "l = 13\n",
        "hasil = p < l\n",
        "print(hasil)\n",
        "\n",
        "p = 12\n",
        "l = 13\n",
        "hasil = p > l\n",
        "print(hasil)\n",
        "\n",
        "p = 12\n",
        "l = 13\n",
        "hasil = p // l\n",
        "print(hasil)\n",
        "\n",
        "p = 12\n",
        "l = 13\n",
        "hasil = p ** l\n",
        "print(hasil)\n",
        "\n",
        "p = 12\n",
        "l = 13\n",
        "hasil = p // l\n",
        "print(hasil)\n",
        "\n",
        "p = 12\n",
        "p += 2\n",
        "print(p)\n",
        "\n",
        "p = 12\n",
        "p -= 2\n",
        "print(p)\n",
        "\n",
        "p = 12\n",
        "p *= 2\n",
        "print(p)\n",
        "\n",
        "p = 12\n",
        "p /= 2\n",
        "print(p)\n",
        "\n",
        "# Operator angka menggunakan IF lebih dari 2 kondisi\n",
        "angka = 200\n",
        "if angka == 10:\n",
        "    print(\"Angka Tersebut Benar 10\")\n",
        "\n",
        "elif angka < 10:\n",
        "    print(\"Angka Tersebut Kurang Dari 10\")\n",
        "\n",
        "else:\n",
        "    print(\"Angka Tersebut Lebih Dari 10\")\n",
        "\n",
        "\n"
      ]
    },
    {
      "cell_type": "markdown",
      "source": [
        "**ARITMATIKA**\n"
      ],
      "metadata": {
        "id": "JUIrR27bCqUk"
      }
    },
    {
      "cell_type": "markdown",
      "metadata": {
        "id": "tMhRHOHOCtRv"
      },
      "source": []
    }
  ],
  "metadata": {
    "colab": {
      "provenance": [],
      "authorship_tag": "ABX9TyMaDBMxTABczzK9ITM2uP5A",
      "include_colab_link": true
    },
    "kernelspec": {
      "display_name": "Python 3",
      "name": "python3"
    },
    "language_info": {
      "name": "python"
    }
  },
  "nbformat": 4,
  "nbformat_minor": 0
}